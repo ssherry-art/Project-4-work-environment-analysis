{
 "cells": [
  {
   "cell_type": "code",
   "execution_count": 5,
   "metadata": {},
   "outputs": [
    {
     "name": "stderr",
     "output_type": "stream",
     "text": [
      "[nltk_data] Downloading package punkt to\n",
      "[nltk_data]     C:\\Users\\ashle\\AppData\\Roaming\\nltk_data...\n",
      "[nltk_data]   Package punkt is already up-to-date!\n",
      "[nltk_data] Downloading package wordnet to\n",
      "[nltk_data]     C:\\Users\\ashle\\AppData\\Roaming\\nltk_data...\n",
      "[nltk_data]   Package wordnet is already up-to-date!\n",
      "c:\\Users\\ashle\\anaconda3\\Lib\\site-packages\\sklearn\\feature_extraction\\text.py:525: UserWarning: The parameter 'token_pattern' will not be used since 'tokenizer' is not None'\n",
      "  warnings.warn(\n"
     ]
    },
    {
     "data": {
      "text/plain": [
       "['vectorizer.pkl']"
      ]
     },
     "execution_count": 5,
     "metadata": {},
     "output_type": "execute_result"
    }
   ],
   "source": [
    "import nltk\n",
    "import joblib\n",
    "from sklearn.feature_extraction.text import TfidfVectorizer\n",
    "from sklearn.naive_bayes import MultinomialNB\n",
    "from nltk.stem import WordNetLemmatizer\n",
    "\n",
    "# Download necessary NLTK data\n",
    "nltk.download(\"punkt\")\n",
    "nltk.download(\"wordnet\")\n",
    "\n",
    "# Sample data\n",
    "patterns = [\"Hi\", \"Hello\", \"How are you?\", \"What is your name?\", \"What can you do?\", \"Bye\"]\n",
    "responses = [\"Hello!\", \"Hi there!\", \"I'm fine, thank you!\", \"I'm a chatbot.\", \"I can chat with you.\", \"Goodbye!\"]\n",
    "\n",
    "# Lemmatizer to preprocess the text\n",
    "lemmatizer = WordNetLemmatizer()\n",
    "\n",
    "def clean_up_sentence(sentence):\n",
    "    words = nltk.word_tokenize(sentence)\n",
    "    words = [lemmatizer.lemmatize(word.lower()) for word in words]\n",
    "    return words\n",
    "\n",
    "# Create a TfidfVectorizer with the clean_up_sentence tokenizer\n",
    "vectorizer = TfidfVectorizer(tokenizer=clean_up_sentence)\n",
    "\n",
    "# Transform the training data into numerical features\n",
    "X = vectorizer.fit_transform(patterns)\n",
    "\n",
    "# Create and train the Multinomial Naive Bayes model\n",
    "model = MultinomialNB()\n",
    "model.fit(X, responses)\n",
    "\n",
    "# Save the trained model and vectorizer\n",
    "joblib.dump(model, \"chatbot_model.pkl\")\n",
    "joblib.dump(vectorizer, \"vectorizer.pkl\")\n"
   ]
  }
 ],
 "metadata": {
  "kernelspec": {
   "display_name": "base",
   "language": "python",
   "name": "python3"
  },
  "language_info": {
   "codemirror_mode": {
    "name": "ipython",
    "version": 3
   },
   "file_extension": ".py",
   "mimetype": "text/x-python",
   "name": "python",
   "nbconvert_exporter": "python",
   "pygments_lexer": "ipython3",
   "version": "3.12.4"
  }
 },
 "nbformat": 4,
 "nbformat_minor": 2
}
